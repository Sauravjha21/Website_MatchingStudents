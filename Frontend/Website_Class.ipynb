{
 "cells": [
  {
   "cell_type": "code",
   "execution_count": null,
   "metadata": {},
   "outputs": [],
   "source": [
    "from flask import Flask, render_template\n",
    "import threading\n",
    "import webbrowser\n",
    "\n",
    "#Create a Flask app\n",
    "app = Flask(__name__)\n",
    "\n",
    "@app.route(\"/\")\n",
    "def home():\n",
    "    return render_template(\"index.html\")\n",
    "\n",
    "#Function to open browser automatically\n",
    "def open_browser():\n",
    "    webbrowser.open_new(\"http://127.0.0.1:5000/\")\n",
    "\n",
    "#Run Flask app in a separate thread\n",
    "def run_app():\n",
    "    app.run(debug=False, use_reloader=False)\n",
    "\n",
    "if __name__ == \"__main__\":\n",
    "    threading.Thread(target=run_app).start()\n",
    "    open_browser()\n"
   ]
  }
 ],
 "metadata": {
  "language_info": {
   "name": "python"
  }
 },
 "nbformat": 4,
 "nbformat_minor": 2
}
