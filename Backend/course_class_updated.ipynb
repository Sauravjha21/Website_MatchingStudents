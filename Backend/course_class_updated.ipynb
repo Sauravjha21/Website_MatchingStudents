{
 "cells": [
  {
   "cell_type": "code",
   "execution_count": null,
   "metadata": {},
   "outputs": [],
   "source": [
    "class Course:\n",
    "    def __init__(self, course_id, name, program_id, program_name, credits, capacity, time_slots, faculty, prerequisites=None):\n",
    "        # Basic validation\n",
    "        if not isinstance(capacity, int) or capacity <= 0:\n",
    "            raise ValueError(\"Capacity must be a positive integer\")\n",
    "            \n",
    "        self.course_id = course_id # Unique identifier for the course\n",
    "        self.name = name  # Course name\n",
    "        self.program_id = program_id # ID of the program the course belongs to\n",
    "        self.program_name = program_name # Name of the program\n",
    "        self.credits = credits # Number of credits assigned to the course\n",
    "        self.capacity = capacity # Maximum number of students allowed\n",
    "        self.time_slots = time_slots # Available time slots for the course\n",
    "        self.faculty = faculty # Instructor(s) teaching the course  \n",
    "        self.prerequisites = prerequisites if prerequisites else [] # List of prerequisite course IDs\n",
    "        self.enrolled_students = [] # List of enrolled student objects or IDs\n",
    "    \n",
    "    # Core capacity management - course class only manages the capacity of the course \n",
    "    def has_space(self):\n",
    "        \"\"\"Check if the course has space for more students.\"\"\"\n",
    "        return len(self.enrolled_students) < self.capacity\n",
    "        \n",
    "    def add_student(self, student):\n",
    "        \"\"\"Simply adds a student if space is available\"\"\"\n",
    "        if self.has_space():\n",
    "            self.enrolled_students.append(student)\n",
    "            return True\n",
    "        return False\n",
    "        \n",
    "    def remove_student(self, student):\n",
    "        if student in self.enrolled_students:\n",
    "            self.enrolled_students.remove(student)\n",
    "            return True\n",
    "        return False\n",
    "    \n",
    "    \n",
    "    def get_prerequisites(self):\n",
    "        \"\"\"returns the list of prerequisite course IDs that are required before a student can take this course\"\"\"\n",
    "        return self.prerequisites\n",
    "        \n",
    "    def get_schedule(self):\n",
    "        \"\"\"returns the time slots when the course is scheduled to meet\"\"\"\n",
    "        return self.time_slots\n",
    "        \n",
    "    def get_capacity_info(self):\n",
    "        \"\"\" creating and returning a dictionary containing capacity, enrolled, available\"\"\"\n",
    "        return {\n",
    "            \"capacity\": self.capacity,\n",
    "            \"enrolled\": len(self.enrolled_students),\n",
    "            \"available\": self.capacity - len(self.enrolled_students)\n",
    "        }\n",
    "        \n",
    "    def __repr__(self):\n",
    "        \"\"\"formatted string containing -course ID, course name, enrollment status as a fraction (current number of students / maximum capacity)\"\"\"\n",
    "        return f\"Course({self.course_id}, {self.name}, Enrolled: {len(self.enrolled_students)}/{self.capacity})\""
   ]
  },
  {
   "cell_type": "code",
   "execution_count": null,
   "metadata": {},
   "outputs": [],
   "source": []
  },
  {
   "cell_type": "code",
   "execution_count": null,
   "metadata": {},
   "outputs": [],
   "source": []
  }
 ],
 "metadata": {
  "kernelspec": {
   "display_name": "base",
   "language": "python",
   "name": "python3"
  },
  "language_info": {
   "codemirror_mode": {
    "name": "ipython",
    "version": 3
   },
   "file_extension": ".py",
   "mimetype": "text/x-python",
   "name": "python",
   "nbconvert_exporter": "python",
   "pygments_lexer": "ipython3",
   "version": "3.12.7"
  }
 },
 "nbformat": 4,
 "nbformat_minor": 2
}
